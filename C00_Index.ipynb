{
 "metadata": {
  "name": "",
  "signature": "sha256:aeede8a5b240f7a96e8e454f77230f6b38a1a4ba061440fa48cd12520e0e3859"
 },
 "nbformat": 3,
 "nbformat_minor": 0,
 "worksheets": [
  {
   "cells": [
    {
     "cell_type": "heading",
     "level": 1,
     "metadata": {},
     "source": [
      "Learning from data notebooks"
     ]
    },
    {
     "cell_type": "markdown",
     "metadata": {},
     "source": [
      "<div class=\"intro\">\n",
      "\n",
      "The following [IPython notebooks](http://ipython.org/notebook.html) contain selected topics from the theory of <strong>learning from data</strong>, short code examples and few plots to demonstrate and highlight selected parts. In most cases I use the standard Python data stack including: <code>[numpy](http://www.numpy.org/),[matplotlib](http://matplotlib.org/), [statsmodels](http://statsmodels.sourceforge.net/), [pandas](http://pandas.pydata.org/)</code> and <code>[scikit-learn](http://scikit-learn.org/stable/)</code>. Sometimes I will add new interesting libraries like, e.g. <code>[seaborn](http://stanford.edu/~mwaskom/software/seaborn/)</code>. In few occasions I will implement a method from scratch to enhance my understanding.\n",
      "\n",
      "</div>"
     ]
    },
    {
     "cell_type": "markdown",
     "metadata": {},
     "source": [
      "<div class=\"contents\">\n",
      "\n",
      "<h2>Contents</h2>\n",
      "<ul>\n",
      "<li> [C01 - Introduction](C01_learning_from_data_introduction.ipynb): Problem formulation,   No-free-lunch theorems, Bias-Variance, PAC-learning, Overfitting, Curse of dimensionality, Model selection, Feature selection, Dimensionality reduction, Cost functions, Feature scaling, Assesing performance of models, Ensemble methods, Resources: courses, sites, competitions, books \n",
      "</li>\n",
      "    \n",
      "<li> [C02- Linear Regression](C02_Linear_Regression.ipynb): Hypothesis set, Loss function, data normalization, regularization, ridge regression, cross-validation for selecting $\\lambda$, LASSO, non-linear transformations, RBF, <code>scikitlearn, statsmodels, pandas, numpy</code></li>\n",
      "</ul>\n",
      "</div>\n",
      "\n",
      "## In preparation\n",
      "* **Linear Regression** - Ordinary least sequares, ridge regression, LASSO, feature selection, PCA, radial basis functions\n",
      "* **Linear classification** - Logistic regression, Optimization using Newton iterations, Gradient descent, perceptron , Stochastic Gradient Descent\n",
      "* **SVM and RBF** - Linear separable case, Non linear separable case, non-separable case\n",
      "* **Naive Bayes **\n",
      "* **Decision trees** -- impurity measures, tree growing, prunning, bagging, random forests, boosting, feature selection with trees\n",
      "* **Resources**) - Tools, Books, Courses, Software, Links"
     ]
    },
    {
     "cell_type": "markdown",
     "metadata": {},
     "source": [
      "** A trick to add custom styling to IPython notebooks [from this StackOverflow post](http://stackoverflow.com/questions/18024769/adding-custom-styled-paragraphs-in-markdown-cells)**. See also [this lecture](http://nbviewer.ipython.org/github/ketch/teaching-numerics-with-notebooks/blob/master/Styling_notebooks.ipynb). The typography of IPython notebooks is discussed [here](http://slendermeans.org/better-typography-for-ipython-notebooks.html) and [here](http://nbviewer.ipython.org/gist/HHammond/7a78d35b34d85406aa60)\n",
      "\n",
      "<div class=warn>\n",
      "**Warning:** I am using the warning style here\n",
      "<div/>"
     ]
    },
    {
     "cell_type": "code",
     "collapsed": false,
     "input": [
      "#------------------------------------------------------\n",
      "# Add css styling to this notebook\n",
      "#------------------------------------------------------\n",
      "from IPython.core.display import HTML\n",
      "css_file = './styles/custom.css'\n",
      "HTML(open(css_file, \"r\").read())"
     ],
     "language": "python",
     "metadata": {},
     "outputs": [
      {
       "html": [
        "<style>\n",
        "\n",
        "/* Body of all markdown cells */\n",
        "#notebook_panel { \n",
        "    background: #fff;\n",
        "    color: #f6f6f6;\n",
        "    font-family : Georgia, serif;\n",
        "}\n",
        "\n",
        "/* More space between bullet points */\n",
        "#notebook li { \n",
        "` margin-top:0.8em;\n",
        "}\n",
        "\n",
        "\n",
        "/* draw border around running cells */\n",
        "div.cell.border-box-sizing.code_cell.running {\n",
        "    border: 3px solid #111;\n",
        "}\n",
        "\n",
        "/* Put a solid color box around each cell and its output, visually linking them together */\n",
        "div.cell.code_cell {\n",
        "    background-color: rgba(171,165,131,0.3); \n",
        "    border-radius: 10px; /* rounded borders */\n",
        "    padding: 1em;\n",
        "    margin-top: 1em;\n",
        "}\n",
        "\n",
        "\n",
        "h1 {\n",
        "\tcolor : rgb(12,85,97);\n",
        "\tfont-family : times;\n",
        "}\n",
        "\n",
        "h2 {\n",
        "\tcolor : #996633;\n",
        "\tfont-family : times;\n",
        "}\n",
        "\n",
        "h3, h4, h5, h6 {\n",
        "\tcolor : #330000;\n",
        "\tfont-family : times;\n",
        "}\n",
        "\n",
        "a {\n",
        "\tcolor : blue;\n",
        "}\n",
        "\n",
        "\n",
        "p {\n",
        "\tfont-color : black;\n",
        "\tmargin-left: 2px;\n",
        "}\n",
        "\n",
        "\n",
        ".contents a {\n",
        "\tcolor : black;\n",
        "}\n",
        "\n",
        "\n",
        "div.warn {    \n",
        "    background-color: #fcf2f2;\n",
        "    border-color: #dFb5b4;\n",
        "    border-left: 5px solid #dfb5b4;\n",
        "    padding: 0.5em;\n",
        "   }\n",
        " \n",
        " </style>"
       ],
       "metadata": {},
       "output_type": "pyout",
       "prompt_number": 111,
       "text": [
        "<IPython.core.display.HTML at 0x3a1b5c0>"
       ]
      }
     ],
     "prompt_number": 111
    }
   ],
   "metadata": {}
  }
 ]
}