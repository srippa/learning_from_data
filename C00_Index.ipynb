{
 "metadata": {
  "name": "",
  "signature": "sha256:663a4531874a30de01cadc3f60103cec876c015a547e9b0d3c29a1d1dbd3d34c"
 },
 "nbformat": 3,
 "nbformat_minor": 0,
 "worksheets": [
  {
   "cells": [
    {
     "cell_type": "heading",
     "level": 1,
     "metadata": {},
     "source": [
      "Learning from data notebooks"
     ]
    },
    {
     "cell_type": "markdown",
     "metadata": {},
     "source": [
      "## Introduction\n",
      "During the past few years I got studied topics in machine learning and I decided to summarize the lessons I learned in a serie of  [IPython notebooks](http://ipython.org/notebook.html) containing selected parts of the theory, short code sniplets and few plots to demonstrate and highlight selected parts. In most cases I use the standard Python data stack including: [numpy](http://www.numpy.org/),[matplotlib](http://matplotlib.org/), [statsmodels](http://statsmodels.sourceforge.net/), [pandas](http://pandas.pydata.org/) and [scikit-learn](http://scikit-learn.org/stable/). Sometimes I will add new interesting libraries like, e.g. [seaborn](http://stanford.edu/~mwaskom/software/seaborn/). \n",
      "\n",
      "In few occasions I will implement a method from scratch. In such cases, I always prefer clarity of presentation over performance or numerical stability. For example when solving least-square problems I invert the normal equations which is e seriously flawed approach from numerical stability point of view.  Thus my homemade implementations are **not** recommended for practical use. "
     ]
    },
    {
     "cell_type": "markdown",
     "metadata": {},
     "source": [
      "## Index\n",
      "\n",
      "* **[C01 - Introduction](C01_learning_from_data_introduction.ipynb)**:  ** <font color='green'>Problem formulation, No-free-lunch theorems, Bias-Variance, PAC-learning, Overfitting, Curse of dimensionality, Model selection, Cost functions, Assesing performance of models, Resources</font>**\n",
      "\n",
      "\n",
      "## In preparation\n",
      "* **Measuring performance** - Test error , Bias-Variance\n",
      "* **Dimensionality reduction** Feature engineering, feature selection, PCA\n",
      "* **Linear Regression** - Ordinary least sequares, ridge regression, LASSO, feature selection, PCA, radial basis functions\n",
      "* **Linear classification** - Logistic regression, Optimization using Newton iterations, Gradient descent, perceptron , Stochastic Gradient Descent\n",
      "* **SVM and RBF** - Linear separable case, Non linear separable case, non-separable case\n",
      "* **Naive Bayes **\n",
      "* **Decision trees** -- impurity measures, tree growing, prunning, bagging, random forests, boosting, feature selection with trees\n",
      "* **Resources**) - Tools, Books, Courses, Software, Links"
     ]
    }
   ],
   "metadata": {}
  }
 ]
}