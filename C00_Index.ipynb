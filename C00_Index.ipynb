{
 "metadata": {
  "name": "",
  "signature": "sha256:f9ac6050fcdd694b5c43f2cf8cb2ebe6c6e01dc52c09e0babf2b04d5b88fe78c"
 },
 "nbformat": 3,
 "nbformat_minor": 0,
 "worksheets": [
  {
   "cells": [
    {
     "cell_type": "heading",
     "level": 1,
     "metadata": {},
     "source": [
      "Learning from data notebooks"
     ]
    },
    {
     "cell_type": "markdown",
     "metadata": {},
     "source": [
      "## Introduction\n",
      "During the past few years I got studied topics in machine learning and I decided to summarize the lessons I learned in a serie of  [IPython notebooks](http://ipython.org/notebook.html) containing selected parts of the theory, short code sniplets and few plots to demonstrate and highlight selected parts. In most cases I use the standard Python data stack including: [numpy](http://www.numpy.org/),[matplotlib](http://matplotlib.org/), [statsmodels](http://statsmodels.sourceforge.net/), [pandas](http://pandas.pydata.org/) and [scikit-learn](http://scikit-learn.org/stable/). Sometimes I will add new interesting libraries like, e.g. [seaborn](http://stanford.edu/~mwaskom/software/seaborn/). \n",
      "\n",
      "In few occasions I will implement a method from scratch. In such cases, I always prefer clarity of presentation over performance or numerical stability. For example when solving least-square problems I invert the normal equations which is e seriously flawed approach from numerical stability point of view.  Thus my homemade implementations are **not** recommended for practical use. "
     ]
    },
    {
     "cell_type": "markdown",
     "metadata": {},
     "source": [
      "## Index\n",
      "\n",
      "* **[C01 - Introduction](C01_learning_from_data_introduction.ipynb)**:  \n",
      "    > ** <font color='blue'> Problem formulation,   No-free-lunch theorems, Bias-Variance, PAC-learning, Overfitting, Curse of dimensionality, Model selection, Feature selection, Dimensionality reduction, Cost functions, Feature scaling, Assesing performance of models, Ensemble methods, Resources: courses, sites, competitions, books</font>**\n",
      "* **[C02- Linear Regression](C02_Linear_Regression.ipynb)**:  \n",
      "    > ** <font color='blue'>Hypothesis set, Loss function, data normalization, regularization, ridge regression, cross-validation for selecting $\\lambda$, LASSO, non-linear transformations, RBF, <font color='green'>scikitlearn, statsmodels, pandas, numpy</font> </font>**\n",
      "\n",
      "\n",
      "## In preparation\n",
      "* **Linear Regression** - Ordinary least sequares, ridge regression, LASSO, feature selection, PCA, radial basis functions\n",
      "* **Linear classification** - Logistic regression, Optimization using Newton iterations, Gradient descent, perceptron , Stochastic Gradient Descent\n",
      "* **SVM and RBF** - Linear separable case, Non linear separable case, non-separable case\n",
      "* **Naive Bayes **\n",
      "* **Decision trees** -- impurity measures, tree growing, prunning, bagging, random forests, boosting, feature selection with trees\n",
      "* **Resources**) - Tools, Books, Courses, Software, Links"
     ]
    },
    {
     "cell_type": "markdown",
     "metadata": {},
     "source": [
      "** A trick to add custom styling to IPython notebooks [from this StackOverflow post](http://stackoverflow.com/questions/18024769/adding-custom-styled-paragraphs-in-markdown-cells)**\n",
      "\n",
      "<div class=warn>\n",
      "**Warning:** I am using the warning style here\n",
      "<div/>"
     ]
    },
    {
     "cell_type": "code",
     "collapsed": false,
     "input": [
      "#------------------------------------------------------\n",
      "# Add my modules and data directories to the path\n",
      "#------------------------------------------------------\n",
      "import os\n",
      "import sys\n",
      "\n",
      "myHome = %pwd                              # THe home of this notebook\n",
      "module_dir = os.path.join(myHome,'src')     # my python modues\n",
      "data_dir   = os.path.join(myHome,'data')    # my python modues\n",
      "sys.path.insert(0,module_dir)               # Add my python modeules to module pat\n",
      "\n",
      "print data_dir\n",
      "\n",
      "\n",
      "from IPython.core.display import HTML\n",
      "def css_styling():\n",
      "    styles = open(\"./styles/custom.css\", \"r\").read()\n",
      "    return HTML(styles)\n",
      "css_styling()"
     ],
     "language": "python",
     "metadata": {},
     "outputs": [
      {
       "output_type": "stream",
       "stream": "stdout",
       "text": [
        "D:\\Dropbox\\ipython\\notebooks\\learning_from_data\\data\n"
       ]
      },
      {
       "html": [
        "<style>\n",
        "div.warn {    \n",
        "    background-color: #fcf2f2;\n",
        "    border-color: #dFb5b4;\n",
        "    border-left: 5px solid #dfb5b4;\n",
        "    padding: 0.5em;\n",
        "    }\n",
        " </style>"
       ],
       "metadata": {},
       "output_type": "pyout",
       "prompt_number": 1,
       "text": [
        "<IPython.core.display.HTML at 0x36d69b0>"
       ]
      }
     ],
     "prompt_number": 1
    }
   ],
   "metadata": {}
  }
 ]
}